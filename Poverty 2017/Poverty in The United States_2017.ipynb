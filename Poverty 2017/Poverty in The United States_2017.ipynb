{
 "cells": [
  {
   "cell_type": "markdown",
   "metadata": {},
   "source": [
    "# Poverty in The United States, 2017"
   ]
  },
  {
   "cell_type": "markdown",
   "metadata": {},
   "source": [
    "## Background"
   ]
  },
  {
   "cell_type": "markdown",
   "metadata": {},
   "source": [
    "Poverty is a multidimensional issue that is difficult to describe based on income alone. The United States is still affected by poverty and will likely continue to be.\n",
    "\n",
    "In The United States, poverty is defined by an income/economic threshold: an individual under age 65 that earns less than 13,064 per year, and an individual that is aged 65 or older that earns less 12,043-are considered to be living in poverty <sup>1</sup>. There are more thresholds considering the family size. \n",
    "\n",
    "The United Nations however, describes poverty in a way that describes the issue in a more comprehensive way, that looks beyond the economic impact. \n",
    "\"Poverty is also social, political and cultural. Moreover, it is considered to undermine human rights - economic (the right to work and have an adequate income), social (access to health care and education), political (freedom of thought, expression and association) and cultural (the right to maintain one's cultural identity and be involved in a community's cultural life) <sup>2</sup> .\" \n",
    "\n",
    "For the purposes of this project, poverty will be analyzed in economic terms as defined by The United States census. The United States census data for year 2017, regarding poverty was downloaded for use in this project. Variables and descriptions are included in the workbook. Overall counts and percentages are included per state, county, as well as The United States as a whole. "
   ]
  },
  {
   "cell_type": "markdown",
   "metadata": {},
   "source": [
    "## Purpose of Project"
   ]
  },
  {
   "cell_type": "markdown",
   "metadata": {},
   "source": [
    "The purpose of this project is to visualize poverty by county and state in The United States, to better understand the magnitude of this particular issue. "
   ]
  },
  {
   "cell_type": "markdown",
   "metadata": {},
   "source": [
    "## Download"
   ]
  },
  {
   "cell_type": "markdown",
   "metadata": {},
   "source": [
    "Please download the csv file \"PovertyEstimates.xlsx\" at:\n",
    "https://www.ers.usda.gov/data-products/county-level-data-sets/download-data/\n",
    "\n",
    "Poverty estimates for the U.S., States, and counties, 2017 (see second tab in this workbook for variable name descriptions)\t\t\t\t\t\t\t\t\t\t\t\t\t\t\t\t\t\t\t\t\t\t\t\t\t\t\t\t\t\t\t\t\t\t\t\n",
    "Source: U.S. Census Bureau, Model-based Small Area Income & Poverty Estimates (SAIPE) -   https://www.census.gov/programs-surveys/saipe.html\t\t\t\t\t\t\t\t\t\t\t\t\t\t\t\t\t\t\t\t\t\t\t\t\t\t"
   ]
  },
  {
   "cell_type": "markdown",
   "metadata": {},
   "source": [
    "## Data"
   ]
  },
  {
   "cell_type": "code",
   "execution_count": 1,
   "metadata": {},
   "outputs": [],
   "source": [
    "#import in pandas,numpy and seaborn, matplotlib and offline plotly\n",
    "import numpy as np\n",
    "import pandas as pd\n",
    "import seaborn as sns\n",
    "import matplotlib.pyplot as plt\n",
    "%matplotlib inline\n",
    "import cufflinks as cf"
   ]
  },
  {
   "cell_type": "code",
   "execution_count": 2,
   "metadata": {},
   "outputs": [],
   "source": [
    "#Read in dataset, read in the FIPS codes as strings for leading zeros are usually dropped. \n",
    "pov=pd.read_excel(\"PovertyEstimates.xls\", dtype={'FIPSTATE':'str', 'FIPSCOUNTY':str})\n",
    "pov_states=pd.read_excel(\"Poverty States.xlsx\")\n",
    "pov_us=pd.read_excel(\"United States Poverty.xlsx\")\n",
    "#Change Columns of interest to strings (they are easier to work with as strings)\n",
    "pov[['State', 'Area_Name']] = pov[['State', 'Area_Name']].astype(str)"
   ]
  },
  {
   "cell_type": "code",
   "execution_count": 4,
   "metadata": {},
   "outputs": [
    {
     "data": {
      "text/plain": [
       "Index(['FIPStxt', 'FIPSTATE', 'FIPSCOUNTY', 'State', 'Area_Name',\n",
       "       'Rural-urban_Continuum_Code_2003', 'Urban_Influence_Code_2003',\n",
       "       'Rural-urban_Continuum_Code_2013', 'Urban_Influence_Code_2013',\n",
       "       'POVALL_2017', 'CI90LBAll_2017', 'CI90UBALL_2017', 'PCTPOVALL_2017',\n",
       "       'CI90LBALLP_2017', 'CI90UBALLP_2017', 'POV017_2017', 'CI90LB017_2017',\n",
       "       'CI90UB017_2017', 'PCTPOV017_2017', 'CI90LB017P_2017',\n",
       "       'CI90UB017P_2017', 'POV517_2017', 'CI90LB517_2017', 'CI90UB517_2017',\n",
       "       'PCTPOV517_2017', 'CI90LB517P_2017', 'CI90UB517P_2017', 'MEDHHINC_2017',\n",
       "       'CI90LBINC_2017', 'CI90UBINC_2017', 'POV04_2017', 'CI90LB04_2017',\n",
       "       'CI90UB04_2017', 'PCTPOV04_2017', 'CI90LB04P_2017', 'CI90UB04P_2017'],\n",
       "      dtype='object')"
      ]
     },
     "execution_count": 4,
     "metadata": {},
     "output_type": "execute_result"
    }
   ],
   "source": [
    "pov.columns"
   ]
  },
  {
   "cell_type": "code",
   "execution_count": 3,
   "metadata": {
    "scrolled": true
   },
   "outputs": [
    {
     "data": {
      "text/html": [
       "<div>\n",
       "<style scoped>\n",
       "    .dataframe tbody tr th:only-of-type {\n",
       "        vertical-align: middle;\n",
       "    }\n",
       "\n",
       "    .dataframe tbody tr th {\n",
       "        vertical-align: top;\n",
       "    }\n",
       "\n",
       "    .dataframe thead th {\n",
       "        text-align: right;\n",
       "    }\n",
       "</style>\n",
       "<table border=\"1\" class=\"dataframe\">\n",
       "  <thead>\n",
       "    <tr style=\"text-align: right;\">\n",
       "      <th></th>\n",
       "      <th>FIPStxt</th>\n",
       "      <th>FIPSTATE</th>\n",
       "      <th>FIPSCOUNTY</th>\n",
       "      <th>State</th>\n",
       "      <th>Area_Name</th>\n",
       "      <th>Rural-urban_Continuum_Code_2003</th>\n",
       "      <th>Urban_Influence_Code_2003</th>\n",
       "      <th>Rural-urban_Continuum_Code_2013</th>\n",
       "      <th>Urban_Influence_Code_2013</th>\n",
       "      <th>POVALL_2017</th>\n",
       "      <th>...</th>\n",
       "      <th>CI90UB517P_2017</th>\n",
       "      <th>MEDHHINC_2017</th>\n",
       "      <th>CI90LBINC_2017</th>\n",
       "      <th>CI90UBINC_2017</th>\n",
       "      <th>POV04_2017</th>\n",
       "      <th>CI90LB04_2017</th>\n",
       "      <th>CI90UB04_2017</th>\n",
       "      <th>PCTPOV04_2017</th>\n",
       "      <th>CI90LB04P_2017</th>\n",
       "      <th>CI90UB04P_2017</th>\n",
       "    </tr>\n",
       "  </thead>\n",
       "  <tbody>\n",
       "    <tr>\n",
       "      <th>0</th>\n",
       "      <td>0</td>\n",
       "      <td>00</td>\n",
       "      <td>000</td>\n",
       "      <td>US</td>\n",
       "      <td>United States</td>\n",
       "      <td>NaN</td>\n",
       "      <td>NaN</td>\n",
       "      <td>NaN</td>\n",
       "      <td>NaN</td>\n",
       "      <td>42583651.0</td>\n",
       "      <td>...</td>\n",
       "      <td>17.5</td>\n",
       "      <td>60336.0</td>\n",
       "      <td>60250.0</td>\n",
       "      <td>60422.0</td>\n",
       "      <td>3932969.0</td>\n",
       "      <td>3880645.0</td>\n",
       "      <td>3985293.0</td>\n",
       "      <td>20.2</td>\n",
       "      <td>19.9</td>\n",
       "      <td>20.5</td>\n",
       "    </tr>\n",
       "    <tr>\n",
       "      <th>1</th>\n",
       "      <td>1000</td>\n",
       "      <td>01</td>\n",
       "      <td>000</td>\n",
       "      <td>AL</td>\n",
       "      <td>Alabama</td>\n",
       "      <td>NaN</td>\n",
       "      <td>NaN</td>\n",
       "      <td>NaN</td>\n",
       "      <td>NaN</td>\n",
       "      <td>802263.0</td>\n",
       "      <td>...</td>\n",
       "      <td>23.8</td>\n",
       "      <td>48193.0</td>\n",
       "      <td>47451.0</td>\n",
       "      <td>48935.0</td>\n",
       "      <td>78986.0</td>\n",
       "      <td>75009.0</td>\n",
       "      <td>82963.0</td>\n",
       "      <td>27.7</td>\n",
       "      <td>26.3</td>\n",
       "      <td>29.1</td>\n",
       "    </tr>\n",
       "    <tr>\n",
       "      <th>2</th>\n",
       "      <td>1001</td>\n",
       "      <td>01</td>\n",
       "      <td>001</td>\n",
       "      <td>AL</td>\n",
       "      <td>Autauga County</td>\n",
       "      <td>2.0</td>\n",
       "      <td>2.0</td>\n",
       "      <td>2.0</td>\n",
       "      <td>2.0</td>\n",
       "      <td>7390.0</td>\n",
       "      <td>...</td>\n",
       "      <td>22.1</td>\n",
       "      <td>58343.0</td>\n",
       "      <td>52121.0</td>\n",
       "      <td>64565.0</td>\n",
       "      <td>NaN</td>\n",
       "      <td>NaN</td>\n",
       "      <td>NaN</td>\n",
       "      <td>NaN</td>\n",
       "      <td>NaN</td>\n",
       "      <td>NaN</td>\n",
       "    </tr>\n",
       "    <tr>\n",
       "      <th>3</th>\n",
       "      <td>1003</td>\n",
       "      <td>01</td>\n",
       "      <td>003</td>\n",
       "      <td>AL</td>\n",
       "      <td>Baldwin County</td>\n",
       "      <td>4.0</td>\n",
       "      <td>5.0</td>\n",
       "      <td>3.0</td>\n",
       "      <td>2.0</td>\n",
       "      <td>21199.0</td>\n",
       "      <td>...</td>\n",
       "      <td>17.9</td>\n",
       "      <td>56607.0</td>\n",
       "      <td>52439.0</td>\n",
       "      <td>60775.0</td>\n",
       "      <td>NaN</td>\n",
       "      <td>NaN</td>\n",
       "      <td>NaN</td>\n",
       "      <td>NaN</td>\n",
       "      <td>NaN</td>\n",
       "      <td>NaN</td>\n",
       "    </tr>\n",
       "    <tr>\n",
       "      <th>4</th>\n",
       "      <td>1005</td>\n",
       "      <td>01</td>\n",
       "      <td>005</td>\n",
       "      <td>AL</td>\n",
       "      <td>Barbour County</td>\n",
       "      <td>6.0</td>\n",
       "      <td>6.0</td>\n",
       "      <td>6.0</td>\n",
       "      <td>6.0</td>\n",
       "      <td>7414.0</td>\n",
       "      <td>...</td>\n",
       "      <td>55.0</td>\n",
       "      <td>32490.0</td>\n",
       "      <td>29218.0</td>\n",
       "      <td>35762.0</td>\n",
       "      <td>NaN</td>\n",
       "      <td>NaN</td>\n",
       "      <td>NaN</td>\n",
       "      <td>NaN</td>\n",
       "      <td>NaN</td>\n",
       "      <td>NaN</td>\n",
       "    </tr>\n",
       "  </tbody>\n",
       "</table>\n",
       "<p>5 rows × 36 columns</p>\n",
       "</div>"
      ],
      "text/plain": [
       "   FIPStxt FIPSTATE FIPSCOUNTY State       Area_Name  \\\n",
       "0        0       00        000    US   United States   \n",
       "1     1000       01        000    AL         Alabama   \n",
       "2     1001       01        001    AL  Autauga County   \n",
       "3     1003       01        003    AL  Baldwin County   \n",
       "4     1005       01        005    AL  Barbour County   \n",
       "\n",
       "   Rural-urban_Continuum_Code_2003  Urban_Influence_Code_2003  \\\n",
       "0                              NaN                        NaN   \n",
       "1                              NaN                        NaN   \n",
       "2                              2.0                        2.0   \n",
       "3                              4.0                        5.0   \n",
       "4                              6.0                        6.0   \n",
       "\n",
       "   Rural-urban_Continuum_Code_2013  Urban_Influence_Code_2013  POVALL_2017  \\\n",
       "0                              NaN                        NaN   42583651.0   \n",
       "1                              NaN                        NaN     802263.0   \n",
       "2                              2.0                        2.0       7390.0   \n",
       "3                              3.0                        2.0      21199.0   \n",
       "4                              6.0                        6.0       7414.0   \n",
       "\n",
       "        ...        CI90UB517P_2017  MEDHHINC_2017  CI90LBINC_2017  \\\n",
       "0       ...                   17.5        60336.0         60250.0   \n",
       "1       ...                   23.8        48193.0         47451.0   \n",
       "2       ...                   22.1        58343.0         52121.0   \n",
       "3       ...                   17.9        56607.0         52439.0   \n",
       "4       ...                   55.0        32490.0         29218.0   \n",
       "\n",
       "   CI90UBINC_2017  POV04_2017  CI90LB04_2017  CI90UB04_2017  PCTPOV04_2017  \\\n",
       "0         60422.0   3932969.0      3880645.0      3985293.0           20.2   \n",
       "1         48935.0     78986.0        75009.0        82963.0           27.7   \n",
       "2         64565.0         NaN            NaN            NaN            NaN   \n",
       "3         60775.0         NaN            NaN            NaN            NaN   \n",
       "4         35762.0         NaN            NaN            NaN            NaN   \n",
       "\n",
       "   CI90LB04P_2017  CI90UB04P_2017  \n",
       "0            19.9            20.5  \n",
       "1            26.3            29.1  \n",
       "2             NaN             NaN  \n",
       "3             NaN             NaN  \n",
       "4             NaN             NaN  \n",
       "\n",
       "[5 rows x 36 columns]"
      ]
     },
     "execution_count": 3,
     "metadata": {},
     "output_type": "execute_result"
    }
   ],
   "source": [
    "#Viewing the first 10 rows for validation reasons. \n",
    "pov.head(5)"
   ]
  },
  {
   "cell_type": "markdown",
   "metadata": {},
   "source": [
    "## Missing Values/NaN"
   ]
  },
  {
   "cell_type": "markdown",
   "metadata": {},
   "source": [
    "In this dataset, we are depending upon heavily upon two columns: `'POVALL_2017'` which are the overall counts of poverty and  `'PCTPOVALL_2017'`, which are the overall percentages of poverty per that particular area. \n",
    "\n",
    "These two columns of interest have only one NaN or missing value and that is associated with The United States as it does not have an overall poverty percentage associated with it. NaN values will not be dropped given this information. For data pertaining to states and counties, there are no missing values. "
   ]
  },
  {
   "cell_type": "code",
   "execution_count": 30,
   "metadata": {},
   "outputs": [
    {
     "data": {
      "text/plain": [
       "FIPStxt                               0\n",
       "FIPSTATE                              0\n",
       "FIPSCOUNTY                            0\n",
       "State                                 0\n",
       "Area_Name                             0\n",
       "Rural-urban_Continuum_Code_2003      57\n",
       "Urban_Influence_Code_2003            57\n",
       "Rural-urban_Continuum_Code_2013      52\n",
       "Urban_Influence_Code_2013            52\n",
       "POVALL_2017                           1\n",
       "CI90LBAll_2017                        1\n",
       "CI90UBALL_2017                        1\n",
       "PCTPOVALL_2017                        1\n",
       "CI90LBALLP_2017                       1\n",
       "CI90UBALLP_2017                       1\n",
       "POV017_2017                           1\n",
       "CI90LB017_2017                        1\n",
       "CI90UB017_2017                        1\n",
       "PCTPOV017_2017                        1\n",
       "CI90LB017P_2017                       1\n",
       "CI90UB017P_2017                       1\n",
       "POV517_2017                           1\n",
       "CI90LB517_2017                        1\n",
       "CI90UB517_2017                        1\n",
       "PCTPOV517_2017                        1\n",
       "CI90LB517P_2017                       1\n",
       "CI90UB517P_2017                       1\n",
       "MEDHHINC_2017                         1\n",
       "CI90LBINC_2017                        1\n",
       "CI90UBINC_2017                        1\n",
       "POV04_2017                         3142\n",
       "CI90LB04_2017                      3142\n",
       "CI90UB04_2017                      3142\n",
       "PCTPOV04_2017                      3142\n",
       "CI90LB04P_2017                     3142\n",
       "CI90UB04P_2017                     3142\n",
       "dtype: int64"
      ]
     },
     "execution_count": 30,
     "metadata": {},
     "output_type": "execute_result"
    }
   ],
   "source": [
    "#Missing values in data\n",
    "count_nan = len(pov) - pov.count()\n",
    "count_nan"
   ]
  },
  {
   "cell_type": "markdown",
   "metadata": {},
   "source": [
    "## Descriptive Statistics"
   ]
  },
  {
   "cell_type": "code",
   "execution_count": 25,
   "metadata": {
    "scrolled": true
   },
   "outputs": [
    {
     "data": {
      "text/html": [
       "<div>\n",
       "<style scoped>\n",
       "    .dataframe tbody tr th:only-of-type {\n",
       "        vertical-align: middle;\n",
       "    }\n",
       "\n",
       "    .dataframe tbody tr th {\n",
       "        vertical-align: top;\n",
       "    }\n",
       "\n",
       "    .dataframe thead th {\n",
       "        text-align: right;\n",
       "    }\n",
       "</style>\n",
       "<table border=\"1\" class=\"dataframe\">\n",
       "  <thead>\n",
       "    <tr style=\"text-align: right;\">\n",
       "      <th></th>\n",
       "      <th>POVALL_2017</th>\n",
       "      <th>PCTPOVALL_2017</th>\n",
       "    </tr>\n",
       "  </thead>\n",
       "  <tbody>\n",
       "    <tr>\n",
       "      <th>count</th>\n",
       "      <td>3.193000e+03</td>\n",
       "      <td>3193.000000</td>\n",
       "    </tr>\n",
       "    <tr>\n",
       "      <th>mean</th>\n",
       "      <td>4.000969e+04</td>\n",
       "      <td>15.340996</td>\n",
       "    </tr>\n",
       "    <tr>\n",
       "      <th>std</th>\n",
       "      <td>7.717069e+05</td>\n",
       "      <td>6.242822</td>\n",
       "    </tr>\n",
       "    <tr>\n",
       "      <th>min</th>\n",
       "      <td>1.300000e+01</td>\n",
       "      <td>3.000000</td>\n",
       "    </tr>\n",
       "    <tr>\n",
       "      <th>25%</th>\n",
       "      <td>1.661000e+03</td>\n",
       "      <td>10.900000</td>\n",
       "    </tr>\n",
       "    <tr>\n",
       "      <th>50%</th>\n",
       "      <td>3.966000e+03</td>\n",
       "      <td>14.300000</td>\n",
       "    </tr>\n",
       "    <tr>\n",
       "      <th>75%</th>\n",
       "      <td>1.007000e+04</td>\n",
       "      <td>18.400000</td>\n",
       "    </tr>\n",
       "    <tr>\n",
       "      <th>max</th>\n",
       "      <td>4.258365e+07</td>\n",
       "      <td>56.700000</td>\n",
       "    </tr>\n",
       "  </tbody>\n",
       "</table>\n",
       "</div>"
      ],
      "text/plain": [
       "        POVALL_2017  PCTPOVALL_2017\n",
       "count  3.193000e+03     3193.000000\n",
       "mean   4.000969e+04       15.340996\n",
       "std    7.717069e+05        6.242822\n",
       "min    1.300000e+01        3.000000\n",
       "25%    1.661000e+03       10.900000\n",
       "50%    3.966000e+03       14.300000\n",
       "75%    1.007000e+04       18.400000\n",
       "max    4.258365e+07       56.700000"
      ]
     },
     "execution_count": 25,
     "metadata": {},
     "output_type": "execute_result"
    }
   ],
   "source": [
    "#Descriptive Statistics\n",
    "pov[['POVALL_2017', 'PCTPOVALL_2017']].describe()\n"
   ]
  },
  {
   "cell_type": "markdown",
   "metadata": {},
   "source": [
    "## Poverty in The United States\n",
    "\n",
    "First, we will look at poverty overall within the United States, and then take a look into state and county."
   ]
  },
  {
   "cell_type": "code",
   "execution_count": 3,
   "metadata": {},
   "outputs": [
    {
     "name": "stdout",
     "output_type": "stream",
     "text": [
      "Overall Estimated poverty count by persons in The United States: 42583651\n",
      "Overall Estimated poverty percentage in The United States: 13.4\n"
     ]
    }
   ],
   "source": [
    "#Count of persons living in poverty UNited States as a whole, along with total percentage.\n",
    "overall_count=pov_us['POVALL_2017'].max()\n",
    "overall_pct_us=pov_us['PCTPOVALL_2017'].max()\n",
    "print(\"Overall Estimated poverty count by persons in The United States: {}\".format(overall_count))\n",
    "print(\"Overall Estimated poverty percentage in The United States: {}\".format(overall_pct_us))"
   ]
  },
  {
   "cell_type": "code",
   "execution_count": 4,
   "metadata": {},
   "outputs": [
    {
     "data": {
      "image/png": "[encoded data removed]",
      "text/plain": [
       "<Figure size 864x576 with 1 Axes>"
      ]
     },
     "metadata": {},
     "output_type": "display_data"
    }
   ],
   "source": [
    "# Pie chart to show poverty \n",
    "labels = 'Living Above Poverty Threshold', 'Living Below Poverty Threshold'\n",
    "sizes = [86.6, 13.4]\n",
    "colors = ['lightblue', 'dodgerblue']\n",
    "explode = (0, 0.1)  \n",
    "\n",
    "fig1, ax1 = plt.subplots()\n",
    "ax1.pie(sizes, explode=explode, colors=colors,labels=labels, autopct='%1.1f%%',textprops={'color':\"black\"},\n",
    "        shadow=True, startangle=90)\n",
    "ax1.axis('equal') \n",
    "\n",
    "\n",
    "fig = plt.gcf()\n",
    "fig.set_size_inches(12,8)\n",
    "plt.title(\"Living Above Poverty vs. Living Below \"  +  \"United States, 2017\", color='black',bbox=dict(facecolor='none', edgecolor='black', boxstyle='round,pad=1'))\n",
    "plt.show()"
   ]
  },
  {
   "cell_type": "markdown",
   "metadata": {},
   "source": [
    "In the United States in 2017, the population was 324,459,463 <sup>3</sup>. There was an estimated 42,583,651 persons (13.4%) of the total population living in poverty. The pie chart above conveys the large percentage of our population that poverty applied to. In other words, nearly 1 out of 8 people in the United States live in poverty."
   ]
  },
  {
   "cell_type": "markdown",
   "metadata": {},
   "source": [
    "## Poverty by State\n",
    "Here we will look into poverty in regards to state. "
   ]
  },
  {
   "cell_type": "code",
   "execution_count": 6,
   "metadata": {},
   "outputs": [
    {
     "name": "stdout",
     "output_type": "stream",
     "text": [
      "Total States included: 51\n",
      "States with overall poverty greater than or equal to 10%: 45\n",
      "States with overall poverty greater than or equal to 20%: 0\n"
     ]
    }
   ],
   "source": [
    "#States included in output\n",
    "overall_count_state=pov_states['POVALL_2017'].count()\n",
    "#States with an overall percentage of poverty greater than or equal to 10%, and 20%\n",
    "overall_pct_state_10=len(pov_states[pov_states['PCTPOVALL_2017'] >= 10.0])\n",
    "overall_pct_state_20=len(pov_states[pov_states['PCTPOVALL_2017'] >= 20.0])\n",
    "#10 States with the highest poverty counts and percentages\n",
    "pct_state=pov_states.sort_values('PCTPOVALL_2017', ascending=False)[:10]\n",
    "cnt_state=pov_states.sort_values('POVALL_2017', ascending=False)[:10]\n",
    "\n",
    "print(\"Total States included: {}\".format(overall_count_state))\n",
    "print(\"States with overall poverty greater than or equal to 10%: {}\".format(overall_pct_state_10))\n",
    "print(\"States with overall poverty greater than or equal to 20%: {}\".format(overall_pct_state_20))\n",
    "\n"
   ]
  },
  {
   "cell_type": "code",
   "execution_count": 7,
   "metadata": {},
   "outputs": [
    {
     "name": "stdout",
     "output_type": "stream",
     "text": [
      "0    CA\n",
      "1    TX\n",
      "2    FL\n",
      "3    NY\n",
      "4    OH\n",
      "5    IL\n",
      "6    PA\n",
      "7    GA\n",
      "8    NC\n",
      "9    MI\n",
      "Name: State, dtype: object\n"
     ]
    }
   ],
   "source": [
    "#10 States with the highest count of persons living in poverty\n",
    "print (\"{}\".format(cnt_state.State))"
   ]
  },
  {
   "cell_type": "code",
   "execution_count": 8,
   "metadata": {},
   "outputs": [
    {
     "name": "stdout",
     "output_type": "stream",
     "text": [
      "24    MS\n",
      "12    LA\n",
      "31    NM\n",
      "35    WV\n",
      "20    KY\n",
      "16    AL\n",
      "44    DC\n",
      "29    AR\n",
      "23    OK\n",
      "19    SC\n",
      "Name: State, dtype: object\n"
     ]
    }
   ],
   "source": [
    "#10 States with the highest percentage of population living in poverty\n",
    "print(\"{}\".format(pct_state.State))"
   ]
  },
  {
   "cell_type": "code",
   "execution_count": 7,
   "metadata": {},
   "outputs": [
    {
     "data": {
      "image/png": "[encoded data removed]",
      "text/plain": [
       "<Figure size 1440x864 with 1 Axes>"
      ]
     },
     "metadata": {
      "needs_background": "light"
     },
     "output_type": "display_data"
    }
   ],
   "source": [
    "plt.figure(figsize=(20,12))\n",
    "ax = sns.barplot(x=\"State\", y=\"POVALL_2017\", data=pov_states, \n",
    "                 plt.figure(figsize=(20,12)))\n",
    "plt.xlabel(\"States\")\n",
    "plt.ylabel(\"Poverty Counts\")\n",
    "plt.title(\"State by Poverty Counts, 2017\") \n",
    "plt.show()"
   ]
  },
  {
   "cell_type": "code",
   "execution_count": 8,
   "metadata": {},
   "outputs": [
    {
     "data": {
      "image/png": "[encoded data removed]",
      "text/plain": [
       "<Figure size 1440x864 with 1 Axes>"
      ]
     },
     "metadata": {
      "needs_background": "light"
     },
     "output_type": "display_data"
    }
   ],
   "source": [
    "sorted_pov_states = pov_states.sort_values('PCTPOVALL_2017')\n",
    "plt.figure(figsize=(20,12))\n",
    "ax = sns.barplot(x=\"State\", y=\"PCTPOVALL_2017\",  data=sorted_pov_states,\n",
    "                 palette=\"Blues_d\")\n",
    "plt.xlabel(\"States\")\n",
    "plt.ylabel(\"Poverty Percentages\")\n",
    "plt.title(\"State by Poverty Percentages, 2017\") \n",
    "plt.show()"
   ]
  },
  {
   "cell_type": "markdown",
   "metadata": {},
   "source": [
    "Many states have a poverty percentage greater than or equal to 10%. There are no states that have a poverty percentage equal to or greater than 20%. Provided above are visualizations for state by poverty counts (individuals living in poverty) and state by poverty percentages (percentage of state's population that is living in poverty), and the results are vastly different. \n",
    "\n",
    "The 10 states with the highest poverty counts overall are: California, Texas, Florida, New York, Ohio, Illinois, Pennsylvania, Georgia, North Carolina, and Michigan. The 10 states with the highest percentage of poverty are: Mississippi, Louisiana, New Mexico, West Virginia, Kentucky, Alabama, District of Columbia, Arkansas, Oklahoma, and South Carolina. \n",
    "\n",
    "\n",
    "A likely explanation for the vast differences is population density. New Mexico, for instance, is a state that has roughly over 2 million residents total. A large portion of the state is still very rural, with few industries and opportunities to earn higher wages in those areas. The state of California is home to nearly 40 million residents, and thus greater opportunities for individuals to live at or below the poverty threshold, but the overall percentage of those living in poverty is lower than New Mexico. "
   ]
  },
  {
   "cell_type": "markdown",
   "metadata": {},
   "source": [
    "## Poverty by County\n",
    "This section will focus on poverty by county, and focus on the counties which are the most impoverished. "
   ]
  },
  {
   "cell_type": "code",
   "execution_count": 11,
   "metadata": {},
   "outputs": [
    {
     "name": "stdout",
     "output_type": "stream",
     "text": [
      "52\n"
     ]
    }
   ],
   "source": [
    "#Extracting the states (and overall United States) from the dataset to focus on counties\n",
    "extract_states=sum(pov['FIPSCOUNTY'].apply(lambda x: x[:]) == '000')\n",
    "print(extract_states)\n",
    "counties_only=pov[pov['FIPSCOUNTY']!='000']"
   ]
  },
  {
   "cell_type": "code",
   "execution_count": 12,
   "metadata": {
    "scrolled": false
   },
   "outputs": [
    {
     "name": "stdout",
     "output_type": "stream",
     "text": [
      "Total counties: 3142\n",
      "Counties with poverty equal to or greater than 10%: 2588\n",
      "Counties with poverty equal to or greater than 20%: 616\n",
      "Counties with poverty equal to or greater than 30%: 88\n",
      "Counties with poverty equal to or greater than 40%: 13\n",
      "Counties with poverty equal to or greater than 50%: 2\n"
     ]
    }
   ],
   "source": [
    "# Total number of counties\n",
    "sum_counties=len(counties_only)\n",
    "\n",
    "# Number of counties where poverty level is higher than 10%, 20%, 30%, 40%, 50%\n",
    "n_greater_10 = len(counties_only[counties_only['PCTPOVALL_2017'] >= 10.0])\n",
    "n_greater_20 = len(counties_only[counties_only['PCTPOVALL_2017'] >= 20.0])\n",
    "n_greater_30 = len(counties_only[counties_only['PCTPOVALL_2017'] >= 30.0])\n",
    "n_greater_40 = len(counties_only[counties_only['PCTPOVALL_2017'] >= 40.0])\n",
    "n_greater_50 = len(counties_only[counties_only['PCTPOVALL_2017'] >= 50.0])\n",
    "\n",
    "\n",
    "print(\"Total counties: {}\".format(sum_counties))\n",
    "print(\"Counties with poverty equal to or greater than 10%: {}\".format(n_greater_10))\n",
    "print(\"Counties with poverty equal to or greater than 20%: {}\".format(n_greater_20))\n",
    "print(\"Counties with poverty equal to or greater than 30%: {}\".format(n_greater_30))\n",
    "print(\"Counties with poverty equal to or greater than 40%: {}\".format(n_greater_40))\n",
    "print(\"Counties with poverty equal to or greater than 50%: {}\".format(n_greater_50))\n"
   ]
  },
  {
   "cell_type": "code",
   "execution_count": 13,
   "metadata": {},
   "outputs": [
    {
     "name": "stdout",
     "output_type": "stream",
     "text": [
      "                Area_Name State  POVALL_2017\n",
      "210    Los Angeles County    CA    1490853.0\n",
      "625           Cook County    IL     746194.0\n",
      "2668        Harris County    TX     733605.0\n",
      "107       Maricopa County    AZ     570402.0\n",
      "1885         Kings County    NY     518422.0\n",
      "373     Miami-Dade County    FL     452649.0\n",
      "1864         Bronx County    NY     400473.0\n",
      "1336         Wayne County    MI     392205.0\n",
      "2334  Philadelphia County    PA     388221.0\n",
      "228      San Diego County    CA     385479.0\n"
     ]
    }
   ],
   "source": [
    "#The counties that have the highest count of individuals living in poverty.\n",
    "pct_county=counties_only.sort_values('PCTPOVALL_2017',ascending=False)[:10]\n",
    "cnt_county=counties_only.sort_values('POVALL_2017',ascending=False)[:10]\n",
    "\n",
    "print (cnt_county[['Area_Name', 'State', 'POVALL_2017']])"
   ]
  },
  {
   "cell_type": "code",
   "execution_count": 14,
   "metadata": {},
   "outputs": [
    {
     "name": "stdout",
     "output_type": "stream",
     "text": [
      "                 Area_Name State  PCTPOVALL_2017\n",
      "2470        Ziebach County    SD            56.7\n",
      "2464           Todd County    SD            50.4\n",
      "264         Crowley County    CO            47.4\n",
      "1150   East Carroll Parish    LA            46.7\n",
      "2412        Buffalo County    SD            43.3\n",
      "1437      Claiborne County    MS            42.6\n",
      "2419         Corson County    SD            42.4\n",
      "1468        Leflore County    MS            42.2\n",
      "1037           Clay County    KY            41.7\n",
      "2455  Oglala Lakota County    SD            41.5\n"
     ]
    }
   ],
   "source": [
    "#The counties that have the highest percentage of population living in poverty.\n",
    "print (pct_county[['Area_Name', 'State', 'PCTPOVALL_2017']])"
   ]
  },
  {
   "cell_type": "markdown",
   "metadata": {},
   "source": [
    "Included in the dataset are a total of 3,142 counties. Similar to the visualizations of counts of poverty by individuals in the United States, the counties that are located in highly populated states such as California and Texas, have the highest number of individuals living in poverty. \n",
    "\n",
    "The vast majority of counties (over 80%), has 10% of residents that were living in poverty for year 2017. There are less counties that have 20% or greater of people that live in poverty. There are two counties with a 50% or more percentage of residents living in poverty: Ziebach County and Todd County, both located in South Dakota. Out of the 10 counties with the highest percentage of poverty in the United States, 5 are located in South Dakota. Below is an interavctive map of the poverty in The United States for the year of 2017. "
   ]
  },
  {
   "cell_type": "code",
   "execution_count": 16,
   "metadata": {},
   "outputs": [
    {
     "name": "stdout",
     "output_type": "stream",
     "text": [
      "High five! You successfully sent some data to your account on plotly. View your plot in your browser at https://plot.ly/~abaltes/0 or inside your plot.ly account where it is named 'choropleth_full_usa'\n"
     ]
    },
    {
     "data": {
      "text/html": [
       "<iframe id=\"igraph\" scrolling=\"no\" style=\"border:none;\" seamless=\"seamless\" src=\"https://plot.ly/~abaltes/0.embed\" height=\"450px\" width=\"900px\"></iframe>"
      ],
      "text/plain": [
       "<plotly.tools.PlotlyDisplay object>"
      ]
     },
     "execution_count": 16,
     "metadata": {},
     "output_type": "execute_result"
    }
   ],
   "source": [
    "#import plotly in order to visualize data in map form\n",
    "import plotly.plotly as py\n",
    "import plotly.figure_factory as ff\n",
    "from plotly.offline import download_plotlyjs, init_notebook_mode, plot, iplot\n",
    "import warnings\n",
    "warnings.filterwarnings('ignore')\n",
    "\n",
    "\n",
    "pov['FIPSTATE'] = pov['FIPSTATE'].apply(lambda x: str(x).zfill(2))\n",
    "pov['FIPSCOUNTY'] = pov['FIPSCOUNTY'].apply(lambda x: str(x).zfill(3))\n",
    "pov['FIPStxt'] = pov['FIPSTATE'] + pov['FIPSCOUNTY']\n",
    "\n",
    "colorscale = [\"#f7fbff\", \"#ebf3fb\", \"#deebf7\", \"#d2e3f3\", \"#c6dbef\", \"#b3d2e9\", \"#9ecae1\",\n",
    "    \"#85bcdb\", \"#6baed6\", \"#57a0ce\", \"#1f77b4\",\"#4292c6\", \"#3082be\", \"#2171b5\", \"#1361a9\",\n",
    "    \"#08519c\", \"#0b4083\", \"#08306b\" \n",
    "]\n",
    "endpts = list(np.linspace(1, 50, len(colorscale) - 1))\n",
    "fips = pov['FIPStxt'].tolist()\n",
    "values = pov['PCTPOVALL_2017'].tolist()\n",
    "\n",
    "fig = ff.create_choropleth(\n",
    "    fips = fips, values = values, scope = ['usa'],\n",
    "    binning_endpoints = endpts, colorscale = colorscale,\n",
    "    state_outline={'color': 'rgb(15, 15, 55)','width': .5},\n",
    "    show_state_data = True,\n",
    "    show_hover = True, centroid_marker = {\n",
    "        'opacity': 0\n",
    "    },\n",
    "    asp = 3.0,\n",
    "    title = 'USA by County Poverty Percentages, 2017 ',\n",
    "    legend_title = '% Poverty'\n",
    ")\n",
    "py.iplot(fig, filename = 'choropleth_full_usa')"
   ]
  },
  {
   "cell_type": "markdown",
   "metadata": {},
   "source": [
    "## Conclusion"
   ]
  },
  {
   "cell_type": "markdown",
   "metadata": {},
   "source": [
    "In conclusion, poverty is an issue that warrants concern. It affects a large portion of the population of The United States and can have lasting effects for the area. Special care should be made to the multifaceted issues that can cause poverty and address them respectfully. "
   ]
  },
  {
   "cell_type": "markdown",
   "metadata": {},
   "source": [
    "## References\n",
    "\n",
    "1.https://www.census.gov/data/tables/time-series/demo/income-poverty/historical-poverty-thresholds.html\n",
    "\n",
    "2.http://www.unesco.org/new/en/social-and-human-sciences/themes/international-migration/glossary/poverty\n",
    "\n",
    "3.http://www.worldometers.info/world-population/us-population/\n"
   ]
  }
 ],
 "metadata": {
  "kernelspec": {
   "display_name": "Python 3",
   "language": "python",
   "name": "python3"
  },
  "language_info": {
   "codemirror_mode": {
    "name": "ipython",
    "version": 3
   },
   "file_extension": ".py",
   "mimetype": "text/x-python",
   "name": "python",
   "nbconvert_exporter": "python",
   "pygments_lexer": "ipython3",
   "version": "3.7.1"
  }
 },
 "nbformat": 4,
 "nbformat_minor": 2
}
